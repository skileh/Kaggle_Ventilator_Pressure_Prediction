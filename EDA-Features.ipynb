{
 "cells": [
  {
   "cell_type": "markdown",
   "id": "4ae937e4",
   "metadata": {
    "papermill": {
     "duration": 0.025045,
     "end_time": "2021-10-24T18:42:02.414074",
     "exception": false,
     "start_time": "2021-10-24T18:42:02.389029",
     "status": "completed"
    },
    "tags": []
   },
   "source": [
    "# Import resources"
   ]
  },
  {
   "cell_type": "code",
   "execution_count": 1,
   "id": "6f340233",
   "metadata": {
    "_cell_guid": "b1076dfc-b9ad-4769-8c92-a6c4dae69d19",
    "_uuid": "8f2839f25d086af736a60e9eeb907d3b93b6e0e5",
    "execution": {
     "iopub.execute_input": "2021-10-24T18:42:02.471535Z",
     "iopub.status.busy": "2021-10-24T18:42:02.470863Z",
     "iopub.status.idle": "2021-10-24T18:42:03.442537Z",
     "shell.execute_reply": "2021-10-24T18:42:03.441770Z",
     "shell.execute_reply.started": "2021-10-24T18:39:17.986644Z"
    },
    "papermill": {
     "duration": 1.004057,
     "end_time": "2021-10-24T18:42:03.442715",
     "exception": false,
     "start_time": "2021-10-24T18:42:02.438658",
     "status": "completed"
    },
    "tags": []
   },
   "outputs": [],
   "source": [
    "import numpy as np # linear algebra\n",
    "import pandas as pd # data processing, CSV file I/O (e.g. pd.read_csv)\n",
    "import seaborn as sns"
   ]
  },
  {
   "cell_type": "markdown",
   "id": "84056cec",
   "metadata": {
    "papermill": {
     "duration": 0.023383,
     "end_time": "2021-10-24T18:42:03.489992",
     "exception": false,
     "start_time": "2021-10-24T18:42:03.466609",
     "status": "completed"
    },
    "tags": []
   },
   "source": [
    "# DATA DESCRIPTION\n",
    "\n",
    "\n",
    "#### The ventilator data used in this competition was produced using a modified open-source ventilator connected to an artificial bellows test lung via a respiratory circuit. The diagram below illustrates the setup, with the two control inputs highlighted in green and the state variable (airway pressure) to predict in blue. The first control input is a continuous variable from 0 to 100 representing the percentage the inspiratory solenoid valve is open to let air into the lung (i.e., 0 is completely closed and no air is let in and 100 is completely open). The second control input is a binary variable representing whether the exploratory valve is open (1) or closed (0) to let air out.\n",
    "\n",
    "\n",
    "#### In this competition, participants are given numerous time series of breaths and will learn to predict the airway pressure in the respiratory circuit during the breath, given the time series of control inputs.\n",
    "\n",
    "\n",
    "![](\n",
    "https://raw.githubusercontent.com/google/deluca-lung/main/assets/2020-10-02%20Ventilator%20diagram.svg)"
   ]
  },
  {
   "cell_type": "markdown",
   "id": "b0763add",
   "metadata": {
    "papermill": {
     "duration": 0.023636,
     "end_time": "2021-10-24T18:42:03.537519",
     "exception": false,
     "start_time": "2021-10-24T18:42:03.513883",
     "status": "completed"
    },
    "tags": []
   },
   "source": [
    "# Let's talk a little about the basic features.\n",
    "\n",
    "* #### **breath_id** - globally-unique time step for breaths\n",
    "\n",
    "\n",
    "* #### **R** - lung attribute indicating how restricted the airway is (in cmH2O/L/S). Physically, this is the change in pressure per change in flow (air volume per time). Intuitively, one can imagine blowing up a balloon through a straw. We can change R by changing the diameter of the straw, with higher R being harder to blow.\n",
    "\n",
    "\n",
    "* #### **C** - lung attribute indicating how compliant the lung is (in mL/cmH2O). Physically, this is the change in volume per change in pressure. Intuitively, one can imagine the same balloon example. We can change C by changing the thickness of the balloon’s latex, with higher C having thinner latex and easier to blow.\n",
    "\n",
    "\n",
    "* #### **time_step** - the actual time stamp.\n",
    "\n",
    "\n",
    "* #### **u_in** - the control input for the inspiratory solenoid valve. Ranges from 0 to 100.\n",
    "\n",
    "\n",
    "* #### **u_out** - the control input for the exploratory solenoid valve. Either 0 or 1.\n",
    "\n",
    "\n",
    "* #### **pressure** - the airway pressure measured in the respiratory circuit, measured in cmH2O."
   ]
  },
  {
   "cell_type": "markdown",
   "id": "a6017325",
   "metadata": {
    "papermill": {
     "duration": 0.02347,
     "end_time": "2021-10-24T18:42:03.585118",
     "exception": false,
     "start_time": "2021-10-24T18:42:03.561648",
     "status": "completed"
    },
    "tags": []
   },
   "source": [
    "# Creating dataframe"
   ]
  },
  {
   "cell_type": "code",
   "execution_count": 2,
   "id": "81c1c877",
   "metadata": {
    "execution": {
     "iopub.execute_input": "2021-10-24T18:42:03.641869Z",
     "iopub.status.busy": "2021-10-24T18:42:03.641129Z",
     "iopub.status.idle": "2021-10-24T18:42:12.828995Z",
     "shell.execute_reply": "2021-10-24T18:42:12.828401Z",
     "shell.execute_reply.started": "2021-10-24T18:39:17.991352Z"
    },
    "papermill": {
     "duration": 9.220118,
     "end_time": "2021-10-24T18:42:12.829138",
     "exception": false,
     "start_time": "2021-10-24T18:42:03.609020",
     "status": "completed"
    },
    "tags": []
   },
   "outputs": [],
   "source": [
    "df_train=pd.read_csv(r\"../input/ventilator-pressure-prediction/train.csv\",encoding='latin-1')"
   ]
  },
  {
   "cell_type": "code",
   "execution_count": 3,
   "id": "a6edd1c8",
   "metadata": {
    "execution": {
     "iopub.execute_input": "2021-10-24T18:42:12.885293Z",
     "iopub.status.busy": "2021-10-24T18:42:12.884596Z",
     "iopub.status.idle": "2021-10-24T18:42:12.901919Z",
     "shell.execute_reply": "2021-10-24T18:42:12.901300Z",
     "shell.execute_reply.started": "2021-10-24T18:39:25.575041Z"
    },
    "papermill": {
     "duration": 0.049012,
     "end_time": "2021-10-24T18:42:12.902061",
     "exception": false,
     "start_time": "2021-10-24T18:42:12.853049",
     "status": "completed"
    },
    "tags": []
   },
   "outputs": [
    {
     "data": {
      "text/html": [
       "<div>\n",
       "<style scoped>\n",
       "    .dataframe tbody tr th:only-of-type {\n",
       "        vertical-align: middle;\n",
       "    }\n",
       "\n",
       "    .dataframe tbody tr th {\n",
       "        vertical-align: top;\n",
       "    }\n",
       "\n",
       "    .dataframe thead th {\n",
       "        text-align: right;\n",
       "    }\n",
       "</style>\n",
       "<table border=\"1\" class=\"dataframe\">\n",
       "  <thead>\n",
       "    <tr style=\"text-align: right;\">\n",
       "      <th></th>\n",
       "      <th>id</th>\n",
       "      <th>breath_id</th>\n",
       "      <th>R</th>\n",
       "      <th>C</th>\n",
       "      <th>time_step</th>\n",
       "      <th>u_in</th>\n",
       "      <th>u_out</th>\n",
       "      <th>pressure</th>\n",
       "    </tr>\n",
       "  </thead>\n",
       "  <tbody>\n",
       "    <tr>\n",
       "      <th>0</th>\n",
       "      <td>1</td>\n",
       "      <td>1</td>\n",
       "      <td>20</td>\n",
       "      <td>50</td>\n",
       "      <td>0.000000</td>\n",
       "      <td>0.083334</td>\n",
       "      <td>0</td>\n",
       "      <td>5.837492</td>\n",
       "    </tr>\n",
       "    <tr>\n",
       "      <th>1</th>\n",
       "      <td>2</td>\n",
       "      <td>1</td>\n",
       "      <td>20</td>\n",
       "      <td>50</td>\n",
       "      <td>0.033652</td>\n",
       "      <td>18.383041</td>\n",
       "      <td>0</td>\n",
       "      <td>5.907794</td>\n",
       "    </tr>\n",
       "    <tr>\n",
       "      <th>2</th>\n",
       "      <td>3</td>\n",
       "      <td>1</td>\n",
       "      <td>20</td>\n",
       "      <td>50</td>\n",
       "      <td>0.067514</td>\n",
       "      <td>22.509278</td>\n",
       "      <td>0</td>\n",
       "      <td>7.876254</td>\n",
       "    </tr>\n",
       "    <tr>\n",
       "      <th>3</th>\n",
       "      <td>4</td>\n",
       "      <td>1</td>\n",
       "      <td>20</td>\n",
       "      <td>50</td>\n",
       "      <td>0.101542</td>\n",
       "      <td>22.808822</td>\n",
       "      <td>0</td>\n",
       "      <td>11.742872</td>\n",
       "    </tr>\n",
       "    <tr>\n",
       "      <th>4</th>\n",
       "      <td>5</td>\n",
       "      <td>1</td>\n",
       "      <td>20</td>\n",
       "      <td>50</td>\n",
       "      <td>0.135756</td>\n",
       "      <td>25.355850</td>\n",
       "      <td>0</td>\n",
       "      <td>12.234987</td>\n",
       "    </tr>\n",
       "  </tbody>\n",
       "</table>\n",
       "</div>"
      ],
      "text/plain": [
       "   id  breath_id   R   C  time_step       u_in  u_out   pressure\n",
       "0   1          1  20  50   0.000000   0.083334      0   5.837492\n",
       "1   2          1  20  50   0.033652  18.383041      0   5.907794\n",
       "2   3          1  20  50   0.067514  22.509278      0   7.876254\n",
       "3   4          1  20  50   0.101542  22.808822      0  11.742872\n",
       "4   5          1  20  50   0.135756  25.355850      0  12.234987"
      ]
     },
     "execution_count": 3,
     "metadata": {},
     "output_type": "execute_result"
    }
   ],
   "source": [
    "df_train.head()"
   ]
  },
  {
   "cell_type": "markdown",
   "id": "4ef3515e",
   "metadata": {
    "papermill": {
     "duration": 0.024207,
     "end_time": "2021-10-24T18:42:12.952278",
     "exception": false,
     "start_time": "2021-10-24T18:42:12.928071",
     "status": "completed"
    },
    "tags": []
   },
   "source": [
    "# PRESSURE"
   ]
  },
  {
   "cell_type": "markdown",
   "id": "f9ffe341",
   "metadata": {
    "papermill": {
     "duration": 0.023973,
     "end_time": "2021-10-24T18:42:13.000954",
     "exception": false,
     "start_time": "2021-10-24T18:42:12.976981",
     "status": "completed"
    },
    "tags": []
   },
   "source": [
    "## Plotting total pressure"
   ]
  },
  {
   "cell_type": "code",
   "execution_count": 4,
   "id": "cd21d5d2",
   "metadata": {
    "execution": {
     "iopub.execute_input": "2021-10-24T18:42:13.382156Z",
     "iopub.status.busy": "2021-10-24T18:42:13.377057Z",
     "iopub.status.idle": "2021-10-24T18:42:45.766201Z",
     "shell.execute_reply": "2021-10-24T18:42:45.766743Z",
     "shell.execute_reply.started": "2021-10-24T18:39:25.594791Z"
    },
    "papermill": {
     "duration": 32.741153,
     "end_time": "2021-10-24T18:42:45.766926",
     "exception": false,
     "start_time": "2021-10-24T18:42:13.025773",
     "status": "completed"
    },
    "tags": []
   },
   "outputs": [
    {
     "data": {
      "text/plain": [
       "<AxesSubplot:xlabel='pressure', ylabel='Count'>"
      ]
     },
     "execution_count": 4,
     "metadata": {},
     "output_type": "execute_result"
    },
    {
     "data": {
      "image/png": "[encoded data removed]",
      "text/plain": [
       "<Figure size 432x288 with 1 Axes>"
      ]
     },
     "metadata": {
      "needs_background": "light"
     },
     "output_type": "display_data"
    }
   ],
   "source": [
    "sns.histplot((df_train['pressure']), kde=True)"
   ]
  },
  {
   "cell_type": "markdown",
   "id": "f14e8265",
   "metadata": {
    "papermill": {
     "duration": 0.025221,
     "end_time": "2021-10-24T18:42:45.817546",
     "exception": false,
     "start_time": "2021-10-24T18:42:45.792325",
     "status": "completed"
    },
    "tags": []
   },
   "source": [
    "## Plotting pressure of a time series"
   ]
  },
  {
   "cell_type": "code",
   "execution_count": 5,
   "id": "4fb6c794",
   "metadata": {
    "execution": {
     "iopub.execute_input": "2021-10-24T18:42:45.879901Z",
     "iopub.status.busy": "2021-10-24T18:42:45.878822Z",
     "iopub.status.idle": "2021-10-24T18:42:46.097061Z",
     "shell.execute_reply": "2021-10-24T18:42:46.097546Z",
     "shell.execute_reply.started": "2021-10-24T18:39:54.010152Z"
    },
    "papermill": {
     "duration": 0.254594,
     "end_time": "2021-10-24T18:42:46.097719",
     "exception": false,
     "start_time": "2021-10-24T18:42:45.843125",
     "status": "completed"
    },
    "tags": []
   },
   "outputs": [
    {
     "data": {
      "image/png": "[encoded data removed]",
      "text/plain": [
       "<Figure size 432x288 with 1 Axes>"
      ]
     },
     "metadata": {
      "needs_background": "light"
     },
     "output_type": "display_data"
    }
   ],
   "source": [
    "def pressure_local(df,value):\n",
    "    df_loc = df.loc[df['breath_id'] == value]\n",
    "    sns.histplot(df_loc['pressure'], kde=True)\n",
    "\n",
    "pressure_local(df_train,2)"
   ]
  },
  {
   "cell_type": "markdown",
   "id": "a1d99e65",
   "metadata": {
    "papermill": {
     "duration": 0.028831,
     "end_time": "2021-10-24T18:42:46.153022",
     "exception": false,
     "start_time": "2021-10-24T18:42:46.124191",
     "status": "completed"
    },
    "tags": []
   },
   "source": [
    "# U_IN"
   ]
  },
  {
   "cell_type": "markdown",
   "id": "9cc5aeac",
   "metadata": {
    "papermill": {
     "duration": 0.026142,
     "end_time": "2021-10-24T18:42:46.205690",
     "exception": false,
     "start_time": "2021-10-24T18:42:46.179548",
     "status": "completed"
    },
    "tags": []
   },
   "source": [
    "## Histogram total u_in "
   ]
  },
  {
   "cell_type": "code",
   "execution_count": 6,
   "id": "e7af96b8",
   "metadata": {
    "execution": {
     "iopub.execute_input": "2021-10-24T18:42:46.262560Z",
     "iopub.status.busy": "2021-10-24T18:42:46.261853Z",
     "iopub.status.idle": "2021-10-24T18:43:20.906172Z",
     "shell.execute_reply": "2021-10-24T18:43:20.905656Z",
     "shell.execute_reply.started": "2021-10-24T18:39:54.255905Z"
    },
    "papermill": {
     "duration": 34.674214,
     "end_time": "2021-10-24T18:43:20.906313",
     "exception": false,
     "start_time": "2021-10-24T18:42:46.232099",
     "status": "completed"
    },
    "tags": []
   },
   "outputs": [
    {
     "data": {
      "text/plain": [
       "<AxesSubplot:xlabel='u_in', ylabel='Count'>"
      ]
     },
     "execution_count": 6,
     "metadata": {},
     "output_type": "execute_result"
    },
    {
     "data": {
      "image/png": "[encoded data removed]",
      "text/plain": [
       "<Figure size 432x288 with 1 Axes>"
      ]
     },
     "metadata": {
      "needs_background": "light"
     },
     "output_type": "display_data"
    }
   ],
   "source": [
    "sns.histplot((df_train['u_in']), kde=True)"
   ]
  },
  {
   "cell_type": "markdown",
   "id": "a60fb7f5",
   "metadata": {
    "papermill": {
     "duration": 0.027463,
     "end_time": "2021-10-24T18:43:20.960927",
     "exception": false,
     "start_time": "2021-10-24T18:43:20.933464",
     "status": "completed"
    },
    "tags": []
   },
   "source": [
    "# Histogram local u_in"
   ]
  },
  {
   "cell_type": "code",
   "execution_count": 7,
   "id": "563a1899",
   "metadata": {
    "execution": {
     "iopub.execute_input": "2021-10-24T18:43:21.019564Z",
     "iopub.status.busy": "2021-10-24T18:43:21.018559Z",
     "iopub.status.idle": "2021-10-24T18:43:21.280361Z",
     "shell.execute_reply": "2021-10-24T18:43:21.280853Z",
     "shell.execute_reply.started": "2021-10-24T18:40:24.447220Z"
    },
    "papermill": {
     "duration": 0.292996,
     "end_time": "2021-10-24T18:43:21.281037",
     "exception": false,
     "start_time": "2021-10-24T18:43:20.988041",
     "status": "completed"
    },
    "tags": []
   },
   "outputs": [
    {
     "data": {
      "image/png": "[encoded data removed]",
      "text/plain": [
       "<Figure size 432x288 with 1 Axes>"
      ]
     },
     "metadata": {
      "needs_background": "light"
     },
     "output_type": "display_data"
    }
   ],
   "source": [
    "def u_in_local(df,value):\n",
    "    df_loc = df.loc[df['breath_id'] == value]\n",
    "    sns.histplot(df_loc['u_in'], kde=True)\n",
    "\n",
    "u_in_local(df_train,2)"
   ]
  },
  {
   "cell_type": "markdown",
   "id": "edf0f11a",
   "metadata": {
    "papermill": {
     "duration": 0.027581,
     "end_time": "2021-10-24T18:43:21.336472",
     "exception": false,
     "start_time": "2021-10-24T18:43:21.308891",
     "status": "completed"
    },
    "tags": []
   },
   "source": [
    "# Conclusion on **u_in** and **pressure**:\n",
    "## We realized that the data do not have a normal distribution, which leads to many outliers."
   ]
  },
  {
   "cell_type": "markdown",
   "id": "3edc621e",
   "metadata": {
    "papermill": {
     "duration": 0.027335,
     "end_time": "2021-10-24T18:43:21.391575",
     "exception": false,
     "start_time": "2021-10-24T18:43:21.364240",
     "status": "completed"
    },
    "tags": []
   },
   "source": [
    "# But, how does u_in behave in relation to pressure?"
   ]
  },
  {
   "cell_type": "markdown",
   "id": "8fcca78a",
   "metadata": {
    "papermill": {
     "duration": 0.027596,
     "end_time": "2021-10-24T18:43:21.446793",
     "exception": false,
     "start_time": "2021-10-24T18:43:21.419197",
     "status": "completed"
    },
    "tags": []
   },
   "source": [
    "### added_index\n",
    "\n",
    "#### Here we add an index to each temporal set. We know that each series has 80 columns, we will be numbering them from 1 to 80. This will help us to plot specific graphs for each series."
   ]
  },
  {
   "cell_type": "code",
   "execution_count": 8,
   "id": "dce2f8ca",
   "metadata": {
    "execution": {
     "iopub.execute_input": "2021-10-24T18:43:21.506819Z",
     "iopub.status.busy": "2021-10-24T18:43:21.506148Z",
     "iopub.status.idle": "2021-10-24T18:43:26.211849Z",
     "shell.execute_reply": "2021-10-24T18:43:26.212426Z",
     "shell.execute_reply.started": "2021-10-24T18:40:24.671797Z"
    },
    "papermill": {
     "duration": 4.737659,
     "end_time": "2021-10-24T18:43:26.212603",
     "exception": false,
     "start_time": "2021-10-24T18:43:21.474944",
     "status": "completed"
    },
    "tags": []
   },
   "outputs": [],
   "source": [
    "def added_index(df):\n",
    "    aux = df.to_numpy()\n",
    "    i=0\n",
    "    auxx = []\n",
    "    for line in aux:\n",
    "        i=i+1\n",
    "        auxx.append(i)\n",
    "        if(i >=80 ):\n",
    "            i=0\n",
    "    auxx = pd.DataFrame(auxx,columns=['new_index'])\n",
    "    return auxx['new_index']\n",
    "df_train['new_index'] = added_index(df_train['id'])"
   ]
  },
  {
   "cell_type": "markdown",
   "id": "36378e8f",
   "metadata": {
    "papermill": {
     "duration": 0.027582,
     "end_time": "2021-10-24T18:43:26.268046",
     "exception": false,
     "start_time": "2021-10-24T18:43:26.240464",
     "status": "completed"
    },
    "tags": []
   },
   "source": [
    "#### Here we are going to create categorical data from columns R and C. This helps us to plot more specific graphs."
   ]
  },
  {
   "cell_type": "code",
   "execution_count": 9,
   "id": "ad04de76",
   "metadata": {
    "execution": {
     "iopub.execute_input": "2021-10-24T18:43:26.330541Z",
     "iopub.status.busy": "2021-10-24T18:43:26.329837Z",
     "iopub.status.idle": "2021-10-24T18:43:46.597439Z",
     "shell.execute_reply": "2021-10-24T18:43:46.596822Z",
     "shell.execute_reply.started": "2021-10-24T18:40:28.817753Z"
    },
    "papermill": {
     "duration": 20.301727,
     "end_time": "2021-10-24T18:43:46.597608",
     "exception": false,
     "start_time": "2021-10-24T18:43:26.295881",
     "status": "completed"
    },
    "tags": []
   },
   "outputs": [],
   "source": [
    "df_train['R'] = df_train['R'].astype(str)\n",
    "df_train['C'] = df_train['C'].astype(str)\n",
    "df_train['R__C'] = df_train[\"R\"].astype(str) + '__' + df_train[\"C\"].astype(str)\n",
    "df_train['R'] = df_train['R'].astype(int)\n",
    "df_train['C'] = df_train['C'].astype(int)\n",
    "#df = pd.get_dummies(df_train)"
   ]
  },
  {
   "cell_type": "markdown",
   "id": "8d41d755",
   "metadata": {
    "papermill": {
     "duration": 0.027377,
     "end_time": "2021-10-24T18:43:46.653103",
     "exception": false,
     "start_time": "2021-10-24T18:43:46.625726",
     "status": "completed"
    },
    "tags": []
   },
   "source": [
    "## Let's continue plotting series 2 graphs (breath_id = 2). Notice what happens in pressure and u_in."
   ]
  },
  {
   "cell_type": "code",
   "execution_count": 10,
   "id": "c08cde41",
   "metadata": {
    "execution": {
     "iopub.execute_input": "2021-10-24T18:43:46.712569Z",
     "iopub.status.busy": "2021-10-24T18:43:46.711572Z",
     "iopub.status.idle": "2021-10-24T18:43:47.322223Z",
     "shell.execute_reply": "2021-10-24T18:43:47.322698Z",
     "shell.execute_reply.started": "2021-10-24T18:40:46.843219Z"
    },
    "papermill": {
     "duration": 0.642084,
     "end_time": "2021-10-24T18:43:47.322886",
     "exception": false,
     "start_time": "2021-10-24T18:43:46.680802",
     "status": "completed"
    },
    "tags": []
   },
   "outputs": [
    {
     "data": {
      "image/png": "[encoded data removed]",
      "text/plain": [
       "<Figure size 432x288 with 1 Axes>"
      ]
     },
     "metadata": {
      "needs_background": "light"
     },
     "output_type": "display_data"
    }
   ],
   "source": [
    "def plot_pressure_u_in(df,value):\n",
    "    fmri = df.loc[df['breath_id'] == value]\n",
    "    df_plot=pd.DataFrame()\n",
    "    df_plot['index'] = fmri['new_index']\n",
    "    df_plot['pressure'] = fmri['pressure']\n",
    "    df_plot['u_in'] = fmri['u_in']\n",
    "    \n",
    "    df_plot = df_plot.melt('index', var_name='cols',  value_name='vals')\n",
    "   # g = sns.factorplot(x=\"index\", y=\"vals\", hue='cols', data=df_plot)\n",
    "    g = sns.lineplot(x=\"index\", y=\"vals\", hue='cols', data=df_plot)\n",
    "\n",
    "   # sns.lineplot(data=fmri, x=\"new_index\", y=\"pressure\")\n",
    "plot_pressure_u_in(df_train,2)"
   ]
  },
  {
   "cell_type": "markdown",
   "id": "78fb5951",
   "metadata": {
    "papermill": {
     "duration": 0.028554,
     "end_time": "2021-10-24T18:43:47.380403",
     "exception": false,
     "start_time": "2021-10-24T18:43:47.351849",
     "status": "completed"
    },
    "tags": []
   },
   "source": [
    "## And for other series?"
   ]
  },
  {
   "cell_type": "code",
   "execution_count": 11,
   "id": "93b9879c",
   "metadata": {
    "execution": {
     "iopub.execute_input": "2021-10-24T18:43:47.441912Z",
     "iopub.status.busy": "2021-10-24T18:43:47.440920Z",
     "iopub.status.idle": "2021-10-24T18:43:47.750485Z",
     "shell.execute_reply": "2021-10-24T18:43:47.750992Z",
     "shell.execute_reply.started": "2021-10-24T18:40:47.351047Z"
    },
    "papermill": {
     "duration": 0.341957,
     "end_time": "2021-10-24T18:43:47.751171",
     "exception": false,
     "start_time": "2021-10-24T18:43:47.409214",
     "status": "completed"
    },
    "tags": []
   },
   "outputs": [
    {
     "data": {
      "image/png": "[encoded data removed]",
      "text/plain": [
       "<Figure size 432x288 with 1 Axes>"
      ]
     },
     "metadata": {
      "needs_background": "light"
     },
     "output_type": "display_data"
    }
   ],
   "source": [
    "plot_pressure_u_in(df_train,2021)"
   ]
  },
  {
   "cell_type": "code",
   "execution_count": 12,
   "id": "3f10349e",
   "metadata": {
    "execution": {
     "iopub.execute_input": "2021-10-24T18:43:47.814892Z",
     "iopub.status.busy": "2021-10-24T18:43:47.814187Z",
     "iopub.status.idle": "2021-10-24T18:43:48.115041Z",
     "shell.execute_reply": "2021-10-24T18:43:48.114374Z",
     "shell.execute_reply.started": "2021-10-24T18:40:47.618837Z"
    },
    "papermill": {
     "duration": 0.333989,
     "end_time": "2021-10-24T18:43:48.115181",
     "exception": false,
     "start_time": "2021-10-24T18:43:47.781192",
     "status": "completed"
    },
    "tags": []
   },
   "outputs": [
    {
     "data": {
      "image/png": "[encoded data removed]",
      "text/plain": [
       "<Figure size 432x288 with 1 Axes>"
      ]
     },
     "metadata": {
      "needs_background": "light"
     },
     "output_type": "display_data"
    }
   ],
   "source": [
    "plot_pressure_u_in(df_train,2048)"
   ]
  },
  {
   "cell_type": "markdown",
   "id": "61e818e9",
   "metadata": {
    "papermill": {
     "duration": 0.03125,
     "end_time": "2021-10-24T18:43:48.177724",
     "exception": false,
     "start_time": "2021-10-24T18:43:48.146474",
     "status": "completed"
    },
    "tags": []
   },
   "source": [
    "# Now let's check time_step"
   ]
  },
  {
   "cell_type": "markdown",
   "id": "bd096c04",
   "metadata": {
    "papermill": {
     "duration": 0.031601,
     "end_time": "2021-10-24T18:43:48.240572",
     "exception": false,
     "start_time": "2021-10-24T18:43:48.208971",
     "status": "completed"
    },
    "tags": []
   },
   "source": [
    "### First: All training dataframe"
   ]
  },
  {
   "cell_type": "code",
   "execution_count": 13,
   "id": "8d5b6a12",
   "metadata": {
    "execution": {
     "iopub.execute_input": "2021-10-24T18:43:48.308610Z",
     "iopub.status.busy": "2021-10-24T18:43:48.307946Z",
     "iopub.status.idle": "2021-10-24T18:44:04.409799Z",
     "shell.execute_reply": "2021-10-24T18:44:04.409140Z",
     "shell.execute_reply.started": "2021-10-24T18:40:47.872266Z"
    },
    "papermill": {
     "duration": 16.137829,
     "end_time": "2021-10-24T18:44:04.409938",
     "exception": false,
     "start_time": "2021-10-24T18:43:48.272109",
     "status": "completed"
    },
    "tags": []
   },
   "outputs": [
    {
     "data": {
      "image/png": "[encoded data removed]",
      "text/plain": [
       "<Figure size 432x288 with 1 Axes>"
      ]
     },
     "metadata": {
      "needs_background": "light"
     },
     "output_type": "display_data"
    }
   ],
   "source": [
    "boxplot = df_train.boxplot(column=['time_step'])"
   ]
  },
  {
   "cell_type": "markdown",
   "id": "85748383",
   "metadata": {
    "papermill": {
     "duration": 0.032342,
     "end_time": "2021-10-24T18:44:04.537429",
     "exception": false,
     "start_time": "2021-10-24T18:44:04.505087",
     "status": "completed"
    },
    "tags": []
   },
   "source": [
    "## Now just a series"
   ]
  },
  {
   "cell_type": "code",
   "execution_count": 14,
   "id": "8452f4cc",
   "metadata": {
    "execution": {
     "iopub.execute_input": "2021-10-24T18:44:04.608384Z",
     "iopub.status.busy": "2021-10-24T18:44:04.607326Z",
     "iopub.status.idle": "2021-10-24T18:44:04.796306Z",
     "shell.execute_reply": "2021-10-24T18:44:04.795397Z",
     "shell.execute_reply.started": "2021-10-24T18:41:01.082327Z"
    },
    "papermill": {
     "duration": 0.227135,
     "end_time": "2021-10-24T18:44:04.796502",
     "exception": false,
     "start_time": "2021-10-24T18:44:04.569367",
     "status": "completed"
    },
    "tags": []
   },
   "outputs": [
    {
     "data": {
      "image/png": "[encoded data removed]",
      "text/plain": [
       "<Figure size 432x288 with 1 Axes>"
      ]
     },
     "metadata": {
      "needs_background": "light"
     },
     "output_type": "display_data"
    }
   ],
   "source": [
    "def time_step_local(df,value):\n",
    "    df_loc = df.loc[df['breath_id'] == value]\n",
    "    #sns.histplot(df_loc['time_step'], kde=True)\n",
    "    boxplot = df_loc.boxplot(column=['time_step'])\n",
    "time_step_local(df_train,2)"
   ]
  },
  {
   "cell_type": "markdown",
   "id": "8c2d7e55",
   "metadata": {
    "papermill": {
     "duration": 0.033155,
     "end_time": "2021-10-24T18:44:04.863665",
     "exception": false,
     "start_time": "2021-10-24T18:44:04.830510",
     "status": "completed"
    },
    "tags": []
   },
   "source": [
    "# And u_out?"
   ]
  },
  {
   "cell_type": "markdown",
   "id": "da1f3553",
   "metadata": {
    "papermill": {
     "duration": 0.033257,
     "end_time": "2021-10-24T18:44:04.930190",
     "exception": false,
     "start_time": "2021-10-24T18:44:04.896933",
     "status": "completed"
    },
    "tags": []
   },
   "source": [
    "## All training dataframe"
   ]
  },
  {
   "cell_type": "code",
   "execution_count": 15,
   "id": "5dc2570f",
   "metadata": {
    "execution": {
     "iopub.execute_input": "2021-10-24T18:44:05.000966Z",
     "iopub.status.busy": "2021-10-24T18:44:04.999674Z",
     "iopub.status.idle": "2021-10-24T18:44:15.443167Z",
     "shell.execute_reply": "2021-10-24T18:44:15.442602Z",
     "shell.execute_reply.started": "2021-10-24T18:41:01.256352Z"
    },
    "papermill": {
     "duration": 10.48059,
     "end_time": "2021-10-24T18:44:15.443318",
     "exception": false,
     "start_time": "2021-10-24T18:44:04.962728",
     "status": "completed"
    },
    "tags": []
   },
   "outputs": [
    {
     "data": {
      "image/png": "[encoded data removed]",
      "text/plain": [
       "<Figure size 432x288 with 1 Axes>"
      ]
     },
     "metadata": {
      "needs_background": "light"
     },
     "output_type": "display_data"
    }
   ],
   "source": [
    "boxplot = df_train.boxplot(column=['u_out'])"
   ]
  },
  {
   "cell_type": "markdown",
   "id": "a3a49b29",
   "metadata": {
    "papermill": {
     "duration": 0.035626,
     "end_time": "2021-10-24T18:44:15.515184",
     "exception": false,
     "start_time": "2021-10-24T18:44:15.479558",
     "status": "completed"
    },
    "tags": []
   },
   "source": [
    "## just a series"
   ]
  },
  {
   "cell_type": "code",
   "execution_count": 16,
   "id": "f777ddb8",
   "metadata": {
    "execution": {
     "iopub.execute_input": "2021-10-24T18:44:15.591253Z",
     "iopub.status.busy": "2021-10-24T18:44:15.590612Z",
     "iopub.status.idle": "2021-10-24T18:44:15.777145Z",
     "shell.execute_reply": "2021-10-24T18:44:15.776551Z",
     "shell.execute_reply.started": "2021-10-24T18:41:10.164445Z"
    },
    "papermill": {
     "duration": 0.226414,
     "end_time": "2021-10-24T18:44:15.777310",
     "exception": false,
     "start_time": "2021-10-24T18:44:15.550896",
     "status": "completed"
    },
    "tags": []
   },
   "outputs": [
    {
     "data": {
      "image/png": "[encoded data removed]",
      "text/plain": [
       "<Figure size 432x288 with 1 Axes>"
      ]
     },
     "metadata": {
      "needs_background": "light"
     },
     "output_type": "display_data"
    }
   ],
   "source": [
    "def u_out_local(df,value):\n",
    "    df_loc = df.loc[df['breath_id'] == value]\n",
    "    #sns.histplot(df_loc['u_out'], kde=True)\n",
    "    boxplot = df_loc.boxplot(column=['u_out'])\n",
    "u_out_local(df_train,2)"
   ]
  }
 ],
 "metadata": {
  "kernelspec": {
   "display_name": "Python 3",
   "language": "python",
   "name": "python3"
  },
  "language_info": {
   "codemirror_mode": {
    "name": "ipython",
    "version": 3
   },
   "file_extension": ".py",
   "mimetype": "text/x-python",
   "name": "python",
   "nbconvert_exporter": "python",
   "pygments_lexer": "ipython3",
   "version": "3.7.10"
  },
  "papermill": {
   "default_parameters": {},
   "duration": 144.095565,
   "end_time": "2021-10-24T18:44:16.925625",
   "environment_variables": {},
   "exception": null,
   "input_path": "__notebook__.ipynb",
   "output_path": "__notebook__.ipynb",
   "parameters": {},
   "start_time": "2021-10-24T18:41:52.830060",
   "version": "2.3.3"
  }
 },
 "nbformat": 4,
 "nbformat_minor": 5
}
